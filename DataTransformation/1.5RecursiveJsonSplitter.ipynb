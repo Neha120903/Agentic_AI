{
 "cells": [
  {
   "cell_type": "markdown",
   "id": "29f4dbaa",
   "metadata": {},
   "source": [
    "####How to split JSON Data"
   ]
  },
  {
   "cell_type": "code",
   "execution_count": null,
   "id": "e7daa7d9",
   "metadata": {},
   "outputs": [],
   "source": [
    "import json\n",
    "import requests\n",
    "\n",
    "json_data=requests.get()"
   ]
  }
 ],
 "metadata": {
  "kernelspec": {
   "display_name": "Python 3",
   "language": "python",
   "name": "python3"
  },
  "language_info": {
   "name": "python",
   "version": "3.13.3"
  }
 },
 "nbformat": 4,
 "nbformat_minor": 5
}
