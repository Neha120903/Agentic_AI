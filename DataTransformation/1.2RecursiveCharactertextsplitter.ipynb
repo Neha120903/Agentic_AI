{
 "cells": [
  {
   "cell_type": "code",
   "execution_count": 1,
   "id": "483fb976",
   "metadata": {},
   "outputs": [
    {
     "data": {
      "text/plain": [
       "[Document(metadata={'producer': 'Adobe PDF Library 24.4.48', 'creator': 'Acrobat PDFMaker 24 for Word', 'creationdate': '2024-12-05T14:39:57+05:30', 'source': 'VPP.pdf', 'file_path': 'VPP.pdf', 'total_pages': 6, 'format': 'PDF 1.7', 'title': 'RULES ON RECRUITMENT POLICY', 'author': 'MR BADRI VISHAL', 'subject': '', 'keywords': '', 'moddate': '2024-12-18T13:20:11+05:30', 'trapped': '', 'encryption': 'Standard V5 R6 256-bit AES', 'modDate': \"D:20241218132011+05'30'\", 'creationDate': \"D:20241205143957+05'30'\", 'page': 0}, page_content='VARIABLE PAY POLICY \\n(NON-SALES) \\nDSL(COR)/HRD/POL/21  \\nVersion No.: 2.00 \\nEffective Date: 5th December 2024 \\nPage No. 1 of 6 \\nReviewed by: \\nHRD & BEX \\nApproved by:  \\nDirector  \\nDistribution details:  \\nIntranet  \\n \\nDS Confidential \\nDocument \\n \\n \\n \\n \\n \\n                                                                                                                                                                                          \\n \\n \\n \\n \\n \\n \\n \\n \\n \\n \\n \\n \\n \\n \\n \\n \\n \\n \\n \\n \\n \\n \\n \\n \\n \\n \\n \\n \\n \\n \\n \\n \\n \\n \\n \\n \\n \\n \\n \\n \\n \\n \\n \\n \\n \\n \\n \\nVARIABLE PAY POLICY (NON-SALES) \\n(DSL(COR)/HRD/POL/21) \\n \\n        \\nVersion : 2.00 \\nReviewed By : HRD & BEX  \\nApproved By : Director \\nEffective Date : 5th December 2024  \\nTotal Pages : 6 \\nDistribution : Softcopy \\n \\n \\n \\n \\n \\n \\n \\n \\n \\n \\nEnclosure:  \\nFAQ - VPP (HRD/WI/53) \\n     \\nPage 1 of 6'),\n",
       " Document(metadata={'producer': 'Adobe PDF Library 24.4.48', 'creator': 'Acrobat PDFMaker 24 for Word', 'creationdate': '2024-12-05T14:39:57+05:30', 'source': 'VPP.pdf', 'file_path': 'VPP.pdf', 'total_pages': 6, 'format': 'PDF 1.7', 'title': 'RULES ON RECRUITMENT POLICY', 'author': 'MR BADRI VISHAL', 'subject': '', 'keywords': '', 'moddate': '2024-12-18T13:20:11+05:30', 'trapped': '', 'encryption': 'Standard V5 R6 256-bit AES', 'modDate': \"D:20241218132011+05'30'\", 'creationDate': \"D:20241205143957+05'30'\", 'page': 1}, page_content=\"VARIABLE PAY POLICY \\n(NON-SALES) \\nDSL(COR)/HRD/POL/21  \\nVersion No.: 2.00 \\nEffective Date: 5th December 2024 \\nPage No. 2 of 6 \\nReviewed by: \\nHRD & BEX \\nApproved by:  \\nDirector  \\nDistribution details:  \\nIntranet  \\n \\nDS Confidential \\nDocument \\n1. OBJECTIVE \\nThe Objective of the Variable Pay Plan is to reward Short Term (Annual / Quarterly) Performance with \\nMonetary Incentives enabling a High-Performance Culture within the Organization and driving \\nRetention of Critical Talent. \\n \\n2. SCOPE \\na. The policy is applicable to all employees of DSL from Cadre O2 & above (excluding Sales).  \\nb. Sales Coordinator and Sales MIS employees shall be covered under this policy.  \\nc. For Sales Refer Policy Variable Pay for Sales (HRD/POL/22). \\n \\n3. POLICY \\n3.1 \\nThe Variable Pay Plan will be applicable to all On Roll Permanent Employees across Cadres \\nand Bands O2 & above in all Businesses. \\n \\nCriteria considered for Eligibility under the Variable Pay Plan are as follows: \\n•  \\nFor an employee to be eligible for Variable Payout in the Current Financial Year, \\nEmployee’s Tenure in the Organization should be at least 6 months in the Applicable \\nPerformance Cycle (1st April to 31st March, equivalent to the Current Financial Year) \\ni.e., Employee must have joined on or before 1st October. The Variable Payout during \\nthe Period of Employment would be on pro-rata basis. E.g., if an employee joins on 1st \\nJuly 2023, he/she will get 9 months Variable Pay basis the Overall Performance Rating \\nof FY 23-24. \\n \\nFor Employees joining after 30th September of the Applicable Performance Cycle, the \\nPayout will be made in the Next Performance Cycle basis the Overall Performance \\nRating in the next Performance Cycle on a pro-rata basis for the Period of Employment \\nin Last Performance Cycle. For example, if someone joins on December 1st, 2023, \\nthey'll get pay for 16 months (4 months for this 2023-24 + 12 months for the FY 24-25), \\npaid in end of FY 24-25. \\n \\n•  \\nEmployee’s status should not be under Probation/Extension of Probation at the time of \\ndisbursement. \\n \\n•  \\nEmployee should be on the rolls or serving notice period on the committed day of \\ndisbursement. However, if the organization is not able to disburse the Variable Pay on \\nthe Committed Dates and an employee resigns post that, he/she will eligible for Variable \\nPay as part of F&F Settlement. \\n \\n•  \\nAll S & below cadre employee shall be excluded from Variable Pay mechanism. \\n \\n3.2 \\nTarget Variable Pay \\nTarget Variable Pay is defined as a % of Cost to Company. Target Variable Pay proposed as \\npart of the proposed variable pay plan for eligible employees is as mentioned in the table \\nbelow: \\n \\n \\n \\n \\n \\n \\nCadre \\nM0 \\nM1 \\nM2 \\nM3 \\nO1 \\nO2 \\nPay mix \\n(VP as % of CTC) \\n25% \\n20% \\n18% \\n14% \\n12% \\n10%\"),\n",
       " Document(metadata={'producer': 'Adobe PDF Library 24.4.48', 'creator': 'Acrobat PDFMaker 24 for Word', 'creationdate': '2024-12-05T14:39:57+05:30', 'source': 'VPP.pdf', 'file_path': 'VPP.pdf', 'total_pages': 6, 'format': 'PDF 1.7', 'title': 'RULES ON RECRUITMENT POLICY', 'author': 'MR BADRI VISHAL', 'subject': '', 'keywords': '', 'moddate': '2024-12-18T13:20:11+05:30', 'trapped': '', 'encryption': 'Standard V5 R6 256-bit AES', 'modDate': \"D:20241218132011+05'30'\", 'creationDate': \"D:20241205143957+05'30'\", 'page': 2}, page_content='VARIABLE PAY POLICY \\n(NON-SALES) \\nDSL(COR)/HRD/POL/21  \\nVersion No.: 2.00 \\nEffective Date: 5th December 2024 \\nPage No. 3 of 6 \\nReviewed by: \\nHRD & BEX \\nApproved by:  \\nDirector  \\nDistribution details:  \\nIntranet  \\n \\nDS Confidential \\nDocument \\n3.3 \\nDimensions of Performance Measurement \\nOverall Performance used for Variable Payout Computation will be a combination of Individual \\nand Business Level Performance \\n \\n• Individual Performance will be measured basis Annual Performance Rating (A=5, B+=4, \\nB=3, C=2, D=1) for the Employee. \\n \\n• Business Performance will be measured basis selected parameters e.g. Net Turnover, \\nProfit Before Tax (PBT) etc. The Achievement for selected parameters will be measured \\nas Actual/Target Value of the Parameter.  \\n \\n3.4 \\nBusiness Performance Criterion – Performance of business will be based on certain \\ncriteria decided by Corporate Reward Team. Business Performance Criteria is unique to \\ndifferent businesses and is aimed to gauge specific areas as per the market position of those \\nrespective businesses. It is made after thorough research and tries to assess and reward \\nareas specific to the business.  \\n \\n3.5 \\nWeightage to Level of Measurement: \\nBasis Cadre of an Employee, the Weightages assigned for Individual Performance Rating and \\nBusiness Performance Rating to arrive at the Overall Performance Rating are as per table \\nmentioned below: \\n \\nPerformance  \\nDimension Weightage \\nM0 \\nM1 \\nM2 \\nM3 \\nO1 \\nO2 \\nBusiness   \\nPerformance (%) \\n70 \\n50 \\n40 \\n30 \\n10 \\n10 \\nIndividual Performance (%) \\n30 \\n50 \\n60 \\n70 \\n90 \\n90 \\n \\n3.6 \\nPay Plan Threshold \\nThe minimum threshold performance achievement to be eligible for Variable Pay Plan are \\nmentioned below: \\n \\n• Business Performance \\n\\uf0fc \\nMinimum Rating of “C”/ “2” or above for Business Performance should be achieved for \\nPayment of the Business Performance Component of Variable Pay Plan. \\n \\n• Individual Performance \\n\\uf0fc \\nA Minimum Rating of C is required on Individual Performance for Payment of the \\nIndividual Performance Component of Variable Pay Plan. \\n\\uf0fc \\nIn case the Individual Performance Rating is D, no Variable Pay will be given to the \\nEmployee. \\n\\uf0fc \\nNo Variable Pay will be given to Employee in case they have received 2 consecutive \\nIndividual Performance Rating of C and below \\n \\nAn Additive approach is to be taken to calculate the Overall Performance Rating which is a \\nWeighted Average of the Business Performance Rating and Individual Performance Rating.'),\n",
       " Document(metadata={'producer': 'Adobe PDF Library 24.4.48', 'creator': 'Acrobat PDFMaker 24 for Word', 'creationdate': '2024-12-05T14:39:57+05:30', 'source': 'VPP.pdf', 'file_path': 'VPP.pdf', 'total_pages': 6, 'format': 'PDF 1.7', 'title': 'RULES ON RECRUITMENT POLICY', 'author': 'MR BADRI VISHAL', 'subject': '', 'keywords': '', 'moddate': '2024-12-18T13:20:11+05:30', 'trapped': '', 'encryption': 'Standard V5 R6 256-bit AES', 'modDate': \"D:20241218132011+05'30'\", 'creationDate': \"D:20241205143957+05'30'\", 'page': 3}, page_content='VARIABLE PAY POLICY \\n(NON-SALES) \\nDSL(COR)/HRD/POL/21  \\nVersion No.: 2.00 \\nEffective Date: 5th December 2024 \\nPage No. 4 of 6 \\nReviewed by: \\nHRD & BEX \\nApproved by:  \\nDirector  \\nDistribution details:  \\nIntranet  \\n \\nDS Confidential \\nDocument \\n3.7 \\nCalculation of Overall Performance Rating for Variable Pay: \\nThe formula for the same is mentioned below: \\n             \\n \\n \\n \\n \\n \\n3.8 \\nPay Performance Curve: \\n \\nThe Variable Pay will be paid out on a Pro-rata basis (on a Continuum) as per Pay \\nPerformance Curve mentioned below with 100% of the Target Payout at an Overall \\nPerformance Rating of B. \\n \\n \\nFor Cadres M0 and M1, the Maximum Payout will be restricted to 115% of the Target Payout \\nat Overall Performance Rating of A. \\n \\n \\nFor Cadres M2, M3, O1 and O2; the Maximum Payout will be restricted to 125% of the Target \\nPayout at Overall Performance Rating of A. \\n \\n \\nThe maximum earning potential is capped basis Individual Performance Rating as below: \\n \\nIndividual  \\nPerformance Rating \\nMaximum Earning Potential \\nM0 \\nM1 \\nM2 \\nM3 \\nO1 \\nO2 \\nA \\n115% \\n115% \\n125% \\n125% \\n125% \\n125% \\nB+ \\n105% \\n105% \\n110% \\n110% \\n110% \\n110% \\nB \\n100% \\n100% \\n100% \\n100% \\n100% \\n100% \\nC \\n40% \\n45% \\n50% \\n55% \\n60% \\n60% \\nD \\n0% \\n0% \\n0% \\n0% \\n0% \\n0% \\n \\nNOTE: However, the Higher Earning potential (Above 100% Payout) is applicable only when \\nthe performance measurement criterion is made fully objective and quantifiable by respective \\nBusiness / Functions. Till such time, Overall Performance Rating 3 and above will get 100% \\npayout only.'),\n",
       " Document(metadata={'producer': 'Adobe PDF Library 24.4.48', 'creator': 'Acrobat PDFMaker 24 for Word', 'creationdate': '2024-12-05T14:39:57+05:30', 'source': 'VPP.pdf', 'file_path': 'VPP.pdf', 'total_pages': 6, 'format': 'PDF 1.7', 'title': 'RULES ON RECRUITMENT POLICY', 'author': 'MR BADRI VISHAL', 'subject': '', 'keywords': '', 'moddate': '2024-12-18T13:20:11+05:30', 'trapped': '', 'encryption': 'Standard V5 R6 256-bit AES', 'modDate': \"D:20241218132011+05'30'\", 'creationDate': \"D:20241205143957+05'30'\", 'page': 4}, page_content=\"VARIABLE PAY POLICY \\n(NON-SALES) \\nDSL(COR)/HRD/POL/21  \\nVersion No.: 2.00 \\nEffective Date: 5th December 2024 \\nPage No. 5 of 6 \\nReviewed by: \\nHRD & BEX \\nApproved by:  \\nDirector  \\nDistribution details:  \\nIntranet  \\n \\nDS Confidential \\nDocument \\n3.9 \\nPayout Simulation \\nIndividual \\nPerformance \\nRating \\nBusiness \\nRating \\nM0 \\nM1 \\nM2 \\nM3 \\nO1 \\nO2 \\nA,B+,B \\n3, 4,5 \\n100% \\n100% \\n100% \\n100% \\n100% \\n100% \\n2 \\n58% \\n72.5% \\n80% \\n86.5% \\n96% \\n96% \\n1 \\n0% \\n0% \\n0% \\n0% \\n0% \\n0% \\n C \\n2, 3,4 or 5 \\n40% \\n45% \\n50% \\n55% \\n60% \\n60% \\n1 \\n0% \\n0% \\n0% \\n0% \\n0% \\n0% \\nD \\nAll \\n0% \\n0% \\n0% \\n0% \\n0% \\n0% \\n \\n3.10 \\nPayout Frequency \\nVariable Pay Plan will be administered at half yearly frequency. \\nFor Half Yearly Payouts:  \\n\\uf0fc \\nVariable Pay in First Half of the Year will be restricted to 30% of the Target Variable Pay. \\n\\uf0fc \\nOrganization Performance Rating would be assumed to be at 3 for Mid-Year Variable Pay \\nComputation.  \\n\\uf0fc \\nEmployees with 2 consecutive “C” or “D” Individual Performance Rating in Mid-Year or \\nPrevious FY will not be eligible for Half Yearly Variable Payout. \\n\\uf0fc \\nThe Year End Variable Payout will be computed as the Payout against Overall Annual \\nPerformance Rating minus the Payout made in the Mid-Year \\n\\uf0fc \\nNo Recovery will be made on the Mid-Year Variable Payout. \\n \\n3.11 \\nCommitted Date for Payout:  \\na. Payment will be made with H+2 Month for Half Yearly Variable Payout.  \\nb. For Annual Payout, Payment will be made with annual increments but latest with the July \\nPayroll. \\n \\n3.12 \\nEvents of Employee's Lifecycle and Pay-out Treatments \\nEvent \\nPayout Treatment \\nDisability \\nTarget pay \\nDeath \\nTarget pay \\nRetirement \\nPro-rated pay-out based on date of retirement as per Target pay \\nLeave without Pay \\nPro-rated pay-out based on number of days worked in the PMS cycle \\nMaternity Leave \\nIn case employee has worked for more than 6 months before \\nproceeding for Maternity Leave, then her rating till that period will be \\ntaken for computation of Variable Pay. In case she has worked less \\nthan 6 months, then last Year’s rating will be considered for the \\ncomputation of variable pay. In both the cases, VPP for the entire year \\nwill be paid. \\nTermination / Ask \\nfor leave  \\nNo pay-out for the current PMS cycle \\nResignation \\nPayout will be given till last working quarter on pro rata basis with Full \\n& Final settlement: \\n• \\nFor new joiners, it shall be assumed as B Rating and  \\n• \\nFor rest, it shall be taken as per YTD Rating or Last Year Rating.\"),\n",
       " Document(metadata={'producer': 'Adobe PDF Library 24.4.48', 'creator': 'Acrobat PDFMaker 24 for Word', 'creationdate': '2024-12-05T14:39:57+05:30', 'source': 'VPP.pdf', 'file_path': 'VPP.pdf', 'total_pages': 6, 'format': 'PDF 1.7', 'title': 'RULES ON RECRUITMENT POLICY', 'author': 'MR BADRI VISHAL', 'subject': '', 'keywords': '', 'moddate': '2024-12-18T13:20:11+05:30', 'trapped': '', 'encryption': 'Standard V5 R6 256-bit AES', 'modDate': \"D:20241218132011+05'30'\", 'creationDate': \"D:20241205143957+05'30'\", 'page': 5}, page_content='VARIABLE PAY POLICY \\n(NON-SALES) \\nDSL(COR)/HRD/POL/21  \\nVersion No.: 2.00 \\nEffective Date: 5th December 2024 \\nPage No. 6 of 6 \\nReviewed by: \\nHRD & BEX \\nApproved by:  \\nDirector  \\nDistribution details:  \\nIntranet  \\n \\nDS Confidential \\nDocument \\n4. EXCEPTIONS & DEVIATIONS \\nAll exception & deviations have to be approved by Director HR. \\n \\n \\n5. POLICY OWNER \\nDirector HR is process owner. Respective HR is the implementer of this policy.  \\n \\n \\n6. POLICY REVIEW FREQUENCY \\nThe policy shall be reviewed once in two years.')]"
      ]
     },
     "execution_count": 1,
     "metadata": {},
     "output_type": "execute_result"
    }
   ],
   "source": [
    "## Reading a pdf file\n",
    "from langchain_community.document_loaders import PyMuPDFLoader\n",
    "pdf_loader=PyMuPDFLoader('VPP.pdf')\n",
    "docs=pdf_loader.load()\n",
    "docs"
   ]
  },
  {
   "cell_type": "markdown",
   "id": "9a070de7",
   "metadata": {},
   "source": [
    "#### Text splitting from documents - recursive characyer text splitters\n",
    "\n",
    "This text splitter is the recommended one for generic text. it is paramterized by a list of characters. it tries to split on them in order until the chunks are small enough.The default list is [\"\\n\\n\",\"\\n\",\"\"]. This has the effect of trying to keep all paragraphs (and then sentences, and then words) together as long as possible, as those would generically seem to be the sttrongest semantically related pieces of text.\n",
    "\n",
    "***How the text is split: by list of characters\n",
    "\n",
    "***How the chunk size is measured: by number of characters."
   ]
  },
  {
   "cell_type": "markdown",
   "id": "1105e203",
   "metadata": {},
   "source": [
    "#### How to recursively  split text by characters"
   ]
  },
  {
   "cell_type": "code",
   "execution_count": 2,
   "id": "165df331",
   "metadata": {},
   "outputs": [
    {
     "data": {
      "text/plain": [
       "[Document(metadata={'producer': 'Adobe PDF Library 24.4.48', 'creator': 'Acrobat PDFMaker 24 for Word', 'creationdate': '2024-12-05T14:39:57+05:30', 'source': 'VPP.pdf', 'file_path': 'VPP.pdf', 'total_pages': 6, 'format': 'PDF 1.7', 'title': 'RULES ON RECRUITMENT POLICY', 'author': 'MR BADRI VISHAL', 'subject': '', 'keywords': '', 'moddate': '2024-12-18T13:20:11+05:30', 'trapped': '', 'encryption': 'Standard V5 R6 256-bit AES', 'modDate': \"D:20241218132011+05'30'\", 'creationDate': \"D:20241205143957+05'30'\", 'page': 0}, page_content='VARIABLE PAY POLICY \\n(NON-SALES) \\nDSL(COR)/HRD/POL/21  \\nVersion No.: 2.00 \\nEffective Date: 5th December 2024 \\nPage No. 1 of 6 \\nReviewed by: \\nHRD & BEX \\nApproved by:  \\nDirector  \\nDistribution details:  \\nIntranet  \\n \\nDS Confidential \\nDocument'),\n",
       " Document(metadata={'producer': 'Adobe PDF Library 24.4.48', 'creator': 'Acrobat PDFMaker 24 for Word', 'creationdate': '2024-12-05T14:39:57+05:30', 'source': 'VPP.pdf', 'file_path': 'VPP.pdf', 'total_pages': 6, 'format': 'PDF 1.7', 'title': 'RULES ON RECRUITMENT POLICY', 'author': 'MR BADRI VISHAL', 'subject': '', 'keywords': '', 'moddate': '2024-12-18T13:20:11+05:30', 'trapped': '', 'encryption': 'Standard V5 R6 256-bit AES', 'modDate': \"D:20241218132011+05'30'\", 'creationDate': \"D:20241205143957+05'30'\", 'page': 0}, page_content='VARIABLE PAY POLICY (NON-SALES) \\n(DSL(COR)/HRD/POL/21) \\n \\n        \\nVersion : 2.00 \\nReviewed By : HRD & BEX  \\nApproved By : Director \\nEffective Date : 5th December 2024  \\nTotal Pages : 6 \\nDistribution : Softcopy \\n \\n \\n \\n \\n \\n \\n \\n \\n \\n \\nEnclosure:  \\nFAQ - VPP (HRD/WI/53) \\n     \\nPage 1 of 6'),\n",
       " Document(metadata={'producer': 'Adobe PDF Library 24.4.48', 'creator': 'Acrobat PDFMaker 24 for Word', 'creationdate': '2024-12-05T14:39:57+05:30', 'source': 'VPP.pdf', 'file_path': 'VPP.pdf', 'total_pages': 6, 'format': 'PDF 1.7', 'title': 'RULES ON RECRUITMENT POLICY', 'author': 'MR BADRI VISHAL', 'subject': '', 'keywords': '', 'moddate': '2024-12-18T13:20:11+05:30', 'trapped': '', 'encryption': 'Standard V5 R6 256-bit AES', 'modDate': \"D:20241218132011+05'30'\", 'creationDate': \"D:20241205143957+05'30'\", 'page': 1}, page_content='VARIABLE PAY POLICY \\n(NON-SALES) \\nDSL(COR)/HRD/POL/21  \\nVersion No.: 2.00 \\nEffective Date: 5th December 2024 \\nPage No. 2 of 6 \\nReviewed by: \\nHRD & BEX \\nApproved by:  \\nDirector  \\nDistribution details:  \\nIntranet  \\n \\nDS Confidential \\nDocument \\n1. OBJECTIVE \\nThe Objective of the Variable Pay Plan is to reward Short Term (Annual / Quarterly) Performance with \\nMonetary Incentives enabling a High-Performance Culture within the Organization and driving \\nRetention of Critical Talent. \\n \\n2. SCOPE'),\n",
       " Document(metadata={'producer': 'Adobe PDF Library 24.4.48', 'creator': 'Acrobat PDFMaker 24 for Word', 'creationdate': '2024-12-05T14:39:57+05:30', 'source': 'VPP.pdf', 'file_path': 'VPP.pdf', 'total_pages': 6, 'format': 'PDF 1.7', 'title': 'RULES ON RECRUITMENT POLICY', 'author': 'MR BADRI VISHAL', 'subject': '', 'keywords': '', 'moddate': '2024-12-18T13:20:11+05:30', 'trapped': '', 'encryption': 'Standard V5 R6 256-bit AES', 'modDate': \"D:20241218132011+05'30'\", 'creationDate': \"D:20241205143957+05'30'\", 'page': 1}, page_content='Retention of Critical Talent. \\n \\n2. SCOPE \\na. The policy is applicable to all employees of DSL from Cadre O2 & above (excluding Sales).  \\nb. Sales Coordinator and Sales MIS employees shall be covered under this policy.  \\nc. For Sales Refer Policy Variable Pay for Sales (HRD/POL/22). \\n \\n3. POLICY \\n3.1 \\nThe Variable Pay Plan will be applicable to all On Roll Permanent Employees across Cadres \\nand Bands O2 & above in all Businesses.'),\n",
       " Document(metadata={'producer': 'Adobe PDF Library 24.4.48', 'creator': 'Acrobat PDFMaker 24 for Word', 'creationdate': '2024-12-05T14:39:57+05:30', 'source': 'VPP.pdf', 'file_path': 'VPP.pdf', 'total_pages': 6, 'format': 'PDF 1.7', 'title': 'RULES ON RECRUITMENT POLICY', 'author': 'MR BADRI VISHAL', 'subject': '', 'keywords': '', 'moddate': '2024-12-18T13:20:11+05:30', 'trapped': '', 'encryption': 'Standard V5 R6 256-bit AES', 'modDate': \"D:20241218132011+05'30'\", 'creationDate': \"D:20241205143957+05'30'\", 'page': 1}, page_content='and Bands O2 & above in all Businesses. \\n \\nCriteria considered for Eligibility under the Variable Pay Plan are as follows: \\n•  \\nFor an employee to be eligible for Variable Payout in the Current Financial Year, \\nEmployee’s Tenure in the Organization should be at least 6 months in the Applicable \\nPerformance Cycle (1st April to 31st March, equivalent to the Current Financial Year) \\ni.e., Employee must have joined on or before 1st October. The Variable Payout during'),\n",
       " Document(metadata={'producer': 'Adobe PDF Library 24.4.48', 'creator': 'Acrobat PDFMaker 24 for Word', 'creationdate': '2024-12-05T14:39:57+05:30', 'source': 'VPP.pdf', 'file_path': 'VPP.pdf', 'total_pages': 6, 'format': 'PDF 1.7', 'title': 'RULES ON RECRUITMENT POLICY', 'author': 'MR BADRI VISHAL', 'subject': '', 'keywords': '', 'moddate': '2024-12-18T13:20:11+05:30', 'trapped': '', 'encryption': 'Standard V5 R6 256-bit AES', 'modDate': \"D:20241218132011+05'30'\", 'creationDate': \"D:20241205143957+05'30'\", 'page': 1}, page_content='the Period of Employment would be on pro-rata basis. E.g., if an employee joins on 1st \\nJuly 2023, he/she will get 9 months Variable Pay basis the Overall Performance Rating \\nof FY 23-24. \\n \\nFor Employees joining after 30th September of the Applicable Performance Cycle, the \\nPayout will be made in the Next Performance Cycle basis the Overall Performance \\nRating in the next Performance Cycle on a pro-rata basis for the Period of Employment'),\n",
       " Document(metadata={'producer': 'Adobe PDF Library 24.4.48', 'creator': 'Acrobat PDFMaker 24 for Word', 'creationdate': '2024-12-05T14:39:57+05:30', 'source': 'VPP.pdf', 'file_path': 'VPP.pdf', 'total_pages': 6, 'format': 'PDF 1.7', 'title': 'RULES ON RECRUITMENT POLICY', 'author': 'MR BADRI VISHAL', 'subject': '', 'keywords': '', 'moddate': '2024-12-18T13:20:11+05:30', 'trapped': '', 'encryption': 'Standard V5 R6 256-bit AES', 'modDate': \"D:20241218132011+05'30'\", 'creationDate': \"D:20241205143957+05'30'\", 'page': 1}, page_content=\"in Last Performance Cycle. For example, if someone joins on December 1st, 2023, \\nthey'll get pay for 16 months (4 months for this 2023-24 + 12 months for the FY 24-25), \\npaid in end of FY 24-25. \\n \\n•  \\nEmployee’s status should not be under Probation/Extension of Probation at the time of \\ndisbursement. \\n \\n•  \\nEmployee should be on the rolls or serving notice period on the committed day of \\ndisbursement. However, if the organization is not able to disburse the Variable Pay on\"),\n",
       " Document(metadata={'producer': 'Adobe PDF Library 24.4.48', 'creator': 'Acrobat PDFMaker 24 for Word', 'creationdate': '2024-12-05T14:39:57+05:30', 'source': 'VPP.pdf', 'file_path': 'VPP.pdf', 'total_pages': 6, 'format': 'PDF 1.7', 'title': 'RULES ON RECRUITMENT POLICY', 'author': 'MR BADRI VISHAL', 'subject': '', 'keywords': '', 'moddate': '2024-12-18T13:20:11+05:30', 'trapped': '', 'encryption': 'Standard V5 R6 256-bit AES', 'modDate': \"D:20241218132011+05'30'\", 'creationDate': \"D:20241205143957+05'30'\", 'page': 1}, page_content='the Committed Dates and an employee resigns post that, he/she will eligible for Variable \\nPay as part of F&F Settlement. \\n \\n•  \\nAll S & below cadre employee shall be excluded from Variable Pay mechanism. \\n \\n3.2 \\nTarget Variable Pay \\nTarget Variable Pay is defined as a % of Cost to Company. Target Variable Pay proposed as \\npart of the proposed variable pay plan for eligible employees is as mentioned in the table \\nbelow: \\n \\n \\n \\n \\n \\n \\nCadre \\nM0 \\nM1 \\nM2 \\nM3 \\nO1 \\nO2 \\nPay mix \\n(VP as % of CTC) \\n25%'),\n",
       " Document(metadata={'producer': 'Adobe PDF Library 24.4.48', 'creator': 'Acrobat PDFMaker 24 for Word', 'creationdate': '2024-12-05T14:39:57+05:30', 'source': 'VPP.pdf', 'file_path': 'VPP.pdf', 'total_pages': 6, 'format': 'PDF 1.7', 'title': 'RULES ON RECRUITMENT POLICY', 'author': 'MR BADRI VISHAL', 'subject': '', 'keywords': '', 'moddate': '2024-12-18T13:20:11+05:30', 'trapped': '', 'encryption': 'Standard V5 R6 256-bit AES', 'modDate': \"D:20241218132011+05'30'\", 'creationDate': \"D:20241205143957+05'30'\", 'page': 1}, page_content='M2 \\nM3 \\nO1 \\nO2 \\nPay mix \\n(VP as % of CTC) \\n25% \\n20% \\n18% \\n14% \\n12% \\n10%'),\n",
       " Document(metadata={'producer': 'Adobe PDF Library 24.4.48', 'creator': 'Acrobat PDFMaker 24 for Word', 'creationdate': '2024-12-05T14:39:57+05:30', 'source': 'VPP.pdf', 'file_path': 'VPP.pdf', 'total_pages': 6, 'format': 'PDF 1.7', 'title': 'RULES ON RECRUITMENT POLICY', 'author': 'MR BADRI VISHAL', 'subject': '', 'keywords': '', 'moddate': '2024-12-18T13:20:11+05:30', 'trapped': '', 'encryption': 'Standard V5 R6 256-bit AES', 'modDate': \"D:20241218132011+05'30'\", 'creationDate': \"D:20241205143957+05'30'\", 'page': 2}, page_content='VARIABLE PAY POLICY \\n(NON-SALES) \\nDSL(COR)/HRD/POL/21  \\nVersion No.: 2.00 \\nEffective Date: 5th December 2024 \\nPage No. 3 of 6 \\nReviewed by: \\nHRD & BEX \\nApproved by:  \\nDirector  \\nDistribution details:  \\nIntranet  \\n \\nDS Confidential \\nDocument \\n3.3 \\nDimensions of Performance Measurement \\nOverall Performance used for Variable Payout Computation will be a combination of Individual \\nand Business Level Performance \\n \\n• Individual Performance will be measured basis Annual Performance Rating (A=5, B+=4,'),\n",
       " Document(metadata={'producer': 'Adobe PDF Library 24.4.48', 'creator': 'Acrobat PDFMaker 24 for Word', 'creationdate': '2024-12-05T14:39:57+05:30', 'source': 'VPP.pdf', 'file_path': 'VPP.pdf', 'total_pages': 6, 'format': 'PDF 1.7', 'title': 'RULES ON RECRUITMENT POLICY', 'author': 'MR BADRI VISHAL', 'subject': '', 'keywords': '', 'moddate': '2024-12-18T13:20:11+05:30', 'trapped': '', 'encryption': 'Standard V5 R6 256-bit AES', 'modDate': \"D:20241218132011+05'30'\", 'creationDate': \"D:20241205143957+05'30'\", 'page': 2}, page_content='B=3, C=2, D=1) for the Employee. \\n \\n• Business Performance will be measured basis selected parameters e.g. Net Turnover, \\nProfit Before Tax (PBT) etc. The Achievement for selected parameters will be measured \\nas Actual/Target Value of the Parameter.  \\n \\n3.4 \\nBusiness Performance Criterion – Performance of business will be based on certain \\ncriteria decided by Corporate Reward Team. Business Performance Criteria is unique to'),\n",
       " Document(metadata={'producer': 'Adobe PDF Library 24.4.48', 'creator': 'Acrobat PDFMaker 24 for Word', 'creationdate': '2024-12-05T14:39:57+05:30', 'source': 'VPP.pdf', 'file_path': 'VPP.pdf', 'total_pages': 6, 'format': 'PDF 1.7', 'title': 'RULES ON RECRUITMENT POLICY', 'author': 'MR BADRI VISHAL', 'subject': '', 'keywords': '', 'moddate': '2024-12-18T13:20:11+05:30', 'trapped': '', 'encryption': 'Standard V5 R6 256-bit AES', 'modDate': \"D:20241218132011+05'30'\", 'creationDate': \"D:20241205143957+05'30'\", 'page': 2}, page_content='different businesses and is aimed to gauge specific areas as per the market position of those \\nrespective businesses. It is made after thorough research and tries to assess and reward \\nareas specific to the business.  \\n \\n3.5 \\nWeightage to Level of Measurement: \\nBasis Cadre of an Employee, the Weightages assigned for Individual Performance Rating and \\nBusiness Performance Rating to arrive at the Overall Performance Rating are as per table \\nmentioned below: \\n \\nPerformance  \\nDimension Weightage'),\n",
       " Document(metadata={'producer': 'Adobe PDF Library 24.4.48', 'creator': 'Acrobat PDFMaker 24 for Word', 'creationdate': '2024-12-05T14:39:57+05:30', 'source': 'VPP.pdf', 'file_path': 'VPP.pdf', 'total_pages': 6, 'format': 'PDF 1.7', 'title': 'RULES ON RECRUITMENT POLICY', 'author': 'MR BADRI VISHAL', 'subject': '', 'keywords': '', 'moddate': '2024-12-18T13:20:11+05:30', 'trapped': '', 'encryption': 'Standard V5 R6 256-bit AES', 'modDate': \"D:20241218132011+05'30'\", 'creationDate': \"D:20241205143957+05'30'\", 'page': 2}, page_content='Performance  \\nDimension Weightage \\nM0 \\nM1 \\nM2 \\nM3 \\nO1 \\nO2 \\nBusiness   \\nPerformance (%) \\n70 \\n50 \\n40 \\n30 \\n10 \\n10 \\nIndividual Performance (%) \\n30 \\n50 \\n60 \\n70 \\n90 \\n90 \\n \\n3.6 \\nPay Plan Threshold \\nThe minimum threshold performance achievement to be eligible for Variable Pay Plan are \\nmentioned below: \\n \\n• Business Performance \\n\\uf0fc \\nMinimum Rating of “C”/ “2” or above for Business Performance should be achieved for \\nPayment of the Business Performance Component of Variable Pay Plan.'),\n",
       " Document(metadata={'producer': 'Adobe PDF Library 24.4.48', 'creator': 'Acrobat PDFMaker 24 for Word', 'creationdate': '2024-12-05T14:39:57+05:30', 'source': 'VPP.pdf', 'file_path': 'VPP.pdf', 'total_pages': 6, 'format': 'PDF 1.7', 'title': 'RULES ON RECRUITMENT POLICY', 'author': 'MR BADRI VISHAL', 'subject': '', 'keywords': '', 'moddate': '2024-12-18T13:20:11+05:30', 'trapped': '', 'encryption': 'Standard V5 R6 256-bit AES', 'modDate': \"D:20241218132011+05'30'\", 'creationDate': \"D:20241205143957+05'30'\", 'page': 2}, page_content='• Individual Performance \\n\\uf0fc \\nA Minimum Rating of C is required on Individual Performance for Payment of the \\nIndividual Performance Component of Variable Pay Plan. \\n\\uf0fc \\nIn case the Individual Performance Rating is D, no Variable Pay will be given to the \\nEmployee. \\n\\uf0fc \\nNo Variable Pay will be given to Employee in case they have received 2 consecutive \\nIndividual Performance Rating of C and below \\n \\nAn Additive approach is to be taken to calculate the Overall Performance Rating which is a'),\n",
       " Document(metadata={'producer': 'Adobe PDF Library 24.4.48', 'creator': 'Acrobat PDFMaker 24 for Word', 'creationdate': '2024-12-05T14:39:57+05:30', 'source': 'VPP.pdf', 'file_path': 'VPP.pdf', 'total_pages': 6, 'format': 'PDF 1.7', 'title': 'RULES ON RECRUITMENT POLICY', 'author': 'MR BADRI VISHAL', 'subject': '', 'keywords': '', 'moddate': '2024-12-18T13:20:11+05:30', 'trapped': '', 'encryption': 'Standard V5 R6 256-bit AES', 'modDate': \"D:20241218132011+05'30'\", 'creationDate': \"D:20241205143957+05'30'\", 'page': 2}, page_content='Weighted Average of the Business Performance Rating and Individual Performance Rating.'),\n",
       " Document(metadata={'producer': 'Adobe PDF Library 24.4.48', 'creator': 'Acrobat PDFMaker 24 for Word', 'creationdate': '2024-12-05T14:39:57+05:30', 'source': 'VPP.pdf', 'file_path': 'VPP.pdf', 'total_pages': 6, 'format': 'PDF 1.7', 'title': 'RULES ON RECRUITMENT POLICY', 'author': 'MR BADRI VISHAL', 'subject': '', 'keywords': '', 'moddate': '2024-12-18T13:20:11+05:30', 'trapped': '', 'encryption': 'Standard V5 R6 256-bit AES', 'modDate': \"D:20241218132011+05'30'\", 'creationDate': \"D:20241205143957+05'30'\", 'page': 3}, page_content='VARIABLE PAY POLICY \\n(NON-SALES) \\nDSL(COR)/HRD/POL/21  \\nVersion No.: 2.00 \\nEffective Date: 5th December 2024 \\nPage No. 4 of 6 \\nReviewed by: \\nHRD & BEX \\nApproved by:  \\nDirector  \\nDistribution details:  \\nIntranet  \\n \\nDS Confidential \\nDocument \\n3.7 \\nCalculation of Overall Performance Rating for Variable Pay: \\nThe formula for the same is mentioned below: \\n             \\n \\n \\n \\n \\n \\n3.8 \\nPay Performance Curve: \\n \\nThe Variable Pay will be paid out on a Pro-rata basis (on a Continuum) as per Pay'),\n",
       " Document(metadata={'producer': 'Adobe PDF Library 24.4.48', 'creator': 'Acrobat PDFMaker 24 for Word', 'creationdate': '2024-12-05T14:39:57+05:30', 'source': 'VPP.pdf', 'file_path': 'VPP.pdf', 'total_pages': 6, 'format': 'PDF 1.7', 'title': 'RULES ON RECRUITMENT POLICY', 'author': 'MR BADRI VISHAL', 'subject': '', 'keywords': '', 'moddate': '2024-12-18T13:20:11+05:30', 'trapped': '', 'encryption': 'Standard V5 R6 256-bit AES', 'modDate': \"D:20241218132011+05'30'\", 'creationDate': \"D:20241205143957+05'30'\", 'page': 3}, page_content='Performance Curve mentioned below with 100% of the Target Payout at an Overall \\nPerformance Rating of B. \\n \\n \\nFor Cadres M0 and M1, the Maximum Payout will be restricted to 115% of the Target Payout \\nat Overall Performance Rating of A. \\n \\n \\nFor Cadres M2, M3, O1 and O2; the Maximum Payout will be restricted to 125% of the Target \\nPayout at Overall Performance Rating of A. \\n \\n \\nThe maximum earning potential is capped basis Individual Performance Rating as below: \\n \\nIndividual'),\n",
       " Document(metadata={'producer': 'Adobe PDF Library 24.4.48', 'creator': 'Acrobat PDFMaker 24 for Word', 'creationdate': '2024-12-05T14:39:57+05:30', 'source': 'VPP.pdf', 'file_path': 'VPP.pdf', 'total_pages': 6, 'format': 'PDF 1.7', 'title': 'RULES ON RECRUITMENT POLICY', 'author': 'MR BADRI VISHAL', 'subject': '', 'keywords': '', 'moddate': '2024-12-18T13:20:11+05:30', 'trapped': '', 'encryption': 'Standard V5 R6 256-bit AES', 'modDate': \"D:20241218132011+05'30'\", 'creationDate': \"D:20241205143957+05'30'\", 'page': 3}, page_content='Individual  \\nPerformance Rating \\nMaximum Earning Potential \\nM0 \\nM1 \\nM2 \\nM3 \\nO1 \\nO2 \\nA \\n115% \\n115% \\n125% \\n125% \\n125% \\n125% \\nB+ \\n105% \\n105% \\n110% \\n110% \\n110% \\n110% \\nB \\n100% \\n100% \\n100% \\n100% \\n100% \\n100% \\nC \\n40% \\n45% \\n50% \\n55% \\n60% \\n60% \\nD \\n0% \\n0% \\n0% \\n0% \\n0% \\n0% \\n \\nNOTE: However, the Higher Earning potential (Above 100% Payout) is applicable only when \\nthe performance measurement criterion is made fully objective and quantifiable by respective'),\n",
       " Document(metadata={'producer': 'Adobe PDF Library 24.4.48', 'creator': 'Acrobat PDFMaker 24 for Word', 'creationdate': '2024-12-05T14:39:57+05:30', 'source': 'VPP.pdf', 'file_path': 'VPP.pdf', 'total_pages': 6, 'format': 'PDF 1.7', 'title': 'RULES ON RECRUITMENT POLICY', 'author': 'MR BADRI VISHAL', 'subject': '', 'keywords': '', 'moddate': '2024-12-18T13:20:11+05:30', 'trapped': '', 'encryption': 'Standard V5 R6 256-bit AES', 'modDate': \"D:20241218132011+05'30'\", 'creationDate': \"D:20241205143957+05'30'\", 'page': 3}, page_content='Business / Functions. Till such time, Overall Performance Rating 3 and above will get 100% \\npayout only.'),\n",
       " Document(metadata={'producer': 'Adobe PDF Library 24.4.48', 'creator': 'Acrobat PDFMaker 24 for Word', 'creationdate': '2024-12-05T14:39:57+05:30', 'source': 'VPP.pdf', 'file_path': 'VPP.pdf', 'total_pages': 6, 'format': 'PDF 1.7', 'title': 'RULES ON RECRUITMENT POLICY', 'author': 'MR BADRI VISHAL', 'subject': '', 'keywords': '', 'moddate': '2024-12-18T13:20:11+05:30', 'trapped': '', 'encryption': 'Standard V5 R6 256-bit AES', 'modDate': \"D:20241218132011+05'30'\", 'creationDate': \"D:20241205143957+05'30'\", 'page': 4}, page_content='VARIABLE PAY POLICY \\n(NON-SALES) \\nDSL(COR)/HRD/POL/21  \\nVersion No.: 2.00 \\nEffective Date: 5th December 2024 \\nPage No. 5 of 6 \\nReviewed by: \\nHRD & BEX \\nApproved by:  \\nDirector  \\nDistribution details:  \\nIntranet  \\n \\nDS Confidential \\nDocument \\n3.9 \\nPayout Simulation \\nIndividual \\nPerformance \\nRating \\nBusiness \\nRating \\nM0 \\nM1 \\nM2 \\nM3 \\nO1 \\nO2 \\nA,B+,B \\n3, 4,5 \\n100% \\n100% \\n100% \\n100% \\n100% \\n100% \\n2 \\n58% \\n72.5% \\n80% \\n86.5% \\n96% \\n96% \\n1 \\n0% \\n0% \\n0% \\n0% \\n0% \\n0% \\n C \\n2, 3,4 or 5 \\n40% \\n45% \\n50% \\n55% \\n60%'),\n",
       " Document(metadata={'producer': 'Adobe PDF Library 24.4.48', 'creator': 'Acrobat PDFMaker 24 for Word', 'creationdate': '2024-12-05T14:39:57+05:30', 'source': 'VPP.pdf', 'file_path': 'VPP.pdf', 'total_pages': 6, 'format': 'PDF 1.7', 'title': 'RULES ON RECRUITMENT POLICY', 'author': 'MR BADRI VISHAL', 'subject': '', 'keywords': '', 'moddate': '2024-12-18T13:20:11+05:30', 'trapped': '', 'encryption': 'Standard V5 R6 256-bit AES', 'modDate': \"D:20241218132011+05'30'\", 'creationDate': \"D:20241205143957+05'30'\", 'page': 4}, page_content='0% \\n0% \\n C \\n2, 3,4 or 5 \\n40% \\n45% \\n50% \\n55% \\n60% \\n60% \\n1 \\n0% \\n0% \\n0% \\n0% \\n0% \\n0% \\nD \\nAll \\n0% \\n0% \\n0% \\n0% \\n0% \\n0% \\n \\n3.10 \\nPayout Frequency \\nVariable Pay Plan will be administered at half yearly frequency. \\nFor Half Yearly Payouts:  \\n\\uf0fc \\nVariable Pay in First Half of the Year will be restricted to 30% of the Target Variable Pay. \\n\\uf0fc \\nOrganization Performance Rating would be assumed to be at 3 for Mid-Year Variable Pay \\nComputation.  \\n\\uf0fc'),\n",
       " Document(metadata={'producer': 'Adobe PDF Library 24.4.48', 'creator': 'Acrobat PDFMaker 24 for Word', 'creationdate': '2024-12-05T14:39:57+05:30', 'source': 'VPP.pdf', 'file_path': 'VPP.pdf', 'total_pages': 6, 'format': 'PDF 1.7', 'title': 'RULES ON RECRUITMENT POLICY', 'author': 'MR BADRI VISHAL', 'subject': '', 'keywords': '', 'moddate': '2024-12-18T13:20:11+05:30', 'trapped': '', 'encryption': 'Standard V5 R6 256-bit AES', 'modDate': \"D:20241218132011+05'30'\", 'creationDate': \"D:20241205143957+05'30'\", 'page': 4}, page_content='Computation.  \\n\\uf0fc \\nEmployees with 2 consecutive “C” or “D” Individual Performance Rating in Mid-Year or \\nPrevious FY will not be eligible for Half Yearly Variable Payout. \\n\\uf0fc \\nThe Year End Variable Payout will be computed as the Payout against Overall Annual \\nPerformance Rating minus the Payout made in the Mid-Year \\n\\uf0fc \\nNo Recovery will be made on the Mid-Year Variable Payout. \\n \\n3.11 \\nCommitted Date for Payout:  \\na. Payment will be made with H+2 Month for Half Yearly Variable Payout.'),\n",
       " Document(metadata={'producer': 'Adobe PDF Library 24.4.48', 'creator': 'Acrobat PDFMaker 24 for Word', 'creationdate': '2024-12-05T14:39:57+05:30', 'source': 'VPP.pdf', 'file_path': 'VPP.pdf', 'total_pages': 6, 'format': 'PDF 1.7', 'title': 'RULES ON RECRUITMENT POLICY', 'author': 'MR BADRI VISHAL', 'subject': '', 'keywords': '', 'moddate': '2024-12-18T13:20:11+05:30', 'trapped': '', 'encryption': 'Standard V5 R6 256-bit AES', 'modDate': \"D:20241218132011+05'30'\", 'creationDate': \"D:20241205143957+05'30'\", 'page': 4}, page_content=\"b. For Annual Payout, Payment will be made with annual increments but latest with the July \\nPayroll. \\n \\n3.12 \\nEvents of Employee's Lifecycle and Pay-out Treatments \\nEvent \\nPayout Treatment \\nDisability \\nTarget pay \\nDeath \\nTarget pay \\nRetirement \\nPro-rated pay-out based on date of retirement as per Target pay \\nLeave without Pay \\nPro-rated pay-out based on number of days worked in the PMS cycle \\nMaternity Leave \\nIn case employee has worked for more than 6 months before\"),\n",
       " Document(metadata={'producer': 'Adobe PDF Library 24.4.48', 'creator': 'Acrobat PDFMaker 24 for Word', 'creationdate': '2024-12-05T14:39:57+05:30', 'source': 'VPP.pdf', 'file_path': 'VPP.pdf', 'total_pages': 6, 'format': 'PDF 1.7', 'title': 'RULES ON RECRUITMENT POLICY', 'author': 'MR BADRI VISHAL', 'subject': '', 'keywords': '', 'moddate': '2024-12-18T13:20:11+05:30', 'trapped': '', 'encryption': 'Standard V5 R6 256-bit AES', 'modDate': \"D:20241218132011+05'30'\", 'creationDate': \"D:20241205143957+05'30'\", 'page': 4}, page_content='proceeding for Maternity Leave, then her rating till that period will be \\ntaken for computation of Variable Pay. In case she has worked less \\nthan 6 months, then last Year’s rating will be considered for the \\ncomputation of variable pay. In both the cases, VPP for the entire year \\nwill be paid. \\nTermination / Ask \\nfor leave  \\nNo pay-out for the current PMS cycle \\nResignation \\nPayout will be given till last working quarter on pro rata basis with Full \\n& Final settlement: \\n•'),\n",
       " Document(metadata={'producer': 'Adobe PDF Library 24.4.48', 'creator': 'Acrobat PDFMaker 24 for Word', 'creationdate': '2024-12-05T14:39:57+05:30', 'source': 'VPP.pdf', 'file_path': 'VPP.pdf', 'total_pages': 6, 'format': 'PDF 1.7', 'title': 'RULES ON RECRUITMENT POLICY', 'author': 'MR BADRI VISHAL', 'subject': '', 'keywords': '', 'moddate': '2024-12-18T13:20:11+05:30', 'trapped': '', 'encryption': 'Standard V5 R6 256-bit AES', 'modDate': \"D:20241218132011+05'30'\", 'creationDate': \"D:20241205143957+05'30'\", 'page': 4}, page_content='& Final settlement: \\n• \\nFor new joiners, it shall be assumed as B Rating and  \\n• \\nFor rest, it shall be taken as per YTD Rating or Last Year Rating.'),\n",
       " Document(metadata={'producer': 'Adobe PDF Library 24.4.48', 'creator': 'Acrobat PDFMaker 24 for Word', 'creationdate': '2024-12-05T14:39:57+05:30', 'source': 'VPP.pdf', 'file_path': 'VPP.pdf', 'total_pages': 6, 'format': 'PDF 1.7', 'title': 'RULES ON RECRUITMENT POLICY', 'author': 'MR BADRI VISHAL', 'subject': '', 'keywords': '', 'moddate': '2024-12-18T13:20:11+05:30', 'trapped': '', 'encryption': 'Standard V5 R6 256-bit AES', 'modDate': \"D:20241218132011+05'30'\", 'creationDate': \"D:20241205143957+05'30'\", 'page': 5}, page_content='VARIABLE PAY POLICY \\n(NON-SALES) \\nDSL(COR)/HRD/POL/21  \\nVersion No.: 2.00 \\nEffective Date: 5th December 2024 \\nPage No. 6 of 6 \\nReviewed by: \\nHRD & BEX \\nApproved by:  \\nDirector  \\nDistribution details:  \\nIntranet  \\n \\nDS Confidential \\nDocument \\n4. EXCEPTIONS & DEVIATIONS \\nAll exception & deviations have to be approved by Director HR. \\n \\n \\n5. POLICY OWNER \\nDirector HR is process owner. Respective HR is the implementer of this policy.  \\n \\n \\n6. POLICY REVIEW FREQUENCY'),\n",
       " Document(metadata={'producer': 'Adobe PDF Library 24.4.48', 'creator': 'Acrobat PDFMaker 24 for Word', 'creationdate': '2024-12-05T14:39:57+05:30', 'source': 'VPP.pdf', 'file_path': 'VPP.pdf', 'total_pages': 6, 'format': 'PDF 1.7', 'title': 'RULES ON RECRUITMENT POLICY', 'author': 'MR BADRI VISHAL', 'subject': '', 'keywords': '', 'moddate': '2024-12-18T13:20:11+05:30', 'trapped': '', 'encryption': 'Standard V5 R6 256-bit AES', 'modDate': \"D:20241218132011+05'30'\", 'creationDate': \"D:20241205143957+05'30'\", 'page': 5}, page_content='6. POLICY REVIEW FREQUENCY \\nThe policy shall be reviewed once in two years.')]"
      ]
     },
     "execution_count": 2,
     "metadata": {},
     "output_type": "execute_result"
    }
   ],
   "source": [
    "from langchain_text_splitters import RecursiveCharacterTextSplitter\n",
    "\n",
    "\n",
    "text_splitter=RecursiveCharacterTextSplitter(chunk_size=500,chunk_overlap=50)\n",
    "final_doc=text_splitter.split_documents(docs)\n",
    "final_doc"
   ]
  },
  {
   "cell_type": "code",
   "execution_count": 4,
   "id": "73c5c05d",
   "metadata": {},
   "outputs": [
    {
     "name": "stdout",
     "output_type": "stream",
     "text": [
      "page_content='VARIABLE PAY POLICY \n",
      "(NON-SALES) \n",
      "DSL(COR)/HRD/POL/21  \n",
      "Version No.: 2.00 \n",
      "Effective Date: 5th December 2024 \n",
      "Page No. 1 of 6 \n",
      "Reviewed by: \n",
      "HRD & BEX \n",
      "Approved by:  \n",
      "Director  \n",
      "Distribution details:  \n",
      "Intranet  \n",
      " \n",
      "DS Confidential \n",
      "Document' metadata={'producer': 'Adobe PDF Library 24.4.48', 'creator': 'Acrobat PDFMaker 24 for Word', 'creationdate': '2024-12-05T14:39:57+05:30', 'source': 'VPP.pdf', 'file_path': 'VPP.pdf', 'total_pages': 6, 'format': 'PDF 1.7', 'title': 'RULES ON RECRUITMENT POLICY', 'author': 'MR BADRI VISHAL', 'subject': '', 'keywords': '', 'moddate': '2024-12-18T13:20:11+05:30', 'trapped': '', 'encryption': 'Standard V5 R6 256-bit AES', 'modDate': \"D:20241218132011+05'30'\", 'creationDate': \"D:20241205143957+05'30'\", 'page': 0}\n"
     ]
    }
   ],
   "source": [
    "print(final_doc[0])\n"
   ]
  },
  {
   "cell_type": "code",
   "execution_count": 5,
   "id": "f88165d8",
   "metadata": {},
   "outputs": [
    {
     "name": "stdout",
     "output_type": "stream",
     "text": [
      "page_content='VARIABLE PAY POLICY (NON-SALES) \n",
      "(DSL(COR)/HRD/POL/21) \n",
      " \n",
      "        \n",
      "Version : 2.00 \n",
      "Reviewed By : HRD & BEX  \n",
      "Approved By : Director \n",
      "Effective Date : 5th December 2024  \n",
      "Total Pages : 6 \n",
      "Distribution : Softcopy \n",
      " \n",
      " \n",
      " \n",
      " \n",
      " \n",
      " \n",
      " \n",
      " \n",
      " \n",
      " \n",
      "Enclosure:  \n",
      "FAQ - VPP (HRD/WI/53) \n",
      "     \n",
      "Page 1 of 6' metadata={'producer': 'Adobe PDF Library 24.4.48', 'creator': 'Acrobat PDFMaker 24 for Word', 'creationdate': '2024-12-05T14:39:57+05:30', 'source': 'VPP.pdf', 'file_path': 'VPP.pdf', 'total_pages': 6, 'format': 'PDF 1.7', 'title': 'RULES ON RECRUITMENT POLICY', 'author': 'MR BADRI VISHAL', 'subject': '', 'keywords': '', 'moddate': '2024-12-18T13:20:11+05:30', 'trapped': '', 'encryption': 'Standard V5 R6 256-bit AES', 'modDate': \"D:20241218132011+05'30'\", 'creationDate': \"D:20241205143957+05'30'\", 'page': 0}\n"
     ]
    }
   ],
   "source": [
    "print(final_doc[1])"
   ]
  },
  {
   "cell_type": "code",
   "execution_count": 7,
   "id": "2403f319",
   "metadata": {},
   "outputs": [
    {
     "data": {
      "text/plain": [
       "[Document(metadata={'source': 'speech.txt'}, page_content='Since\\n1929\\nThe DS Group (Dharampal Satyapal Group) is a Multi-Business Corporation and one of the leading FMCG (Fast Moving Consumer Goods) conglomerate with strong Indian and International presence. Founded in the year 1929, it is an inspiring and successful business story that blends a remarkable history and legacy with visionary growth. The Group continues to build successful brands across diverse business categories to delight the consumers, while the undeterred pursuit for ‘Quality & Innovation’ ensures consumer loyalty and satisfaction.\\n\\nGuided by a clear set of values and built on a strong foundation of collective good, Corporate Social Responsibility is an integral part of the Group’s business objectives. The Group works on projects across the country to achieve this objective with a focus on critical areas such as Water, Livelihood and Education. These initiatives have a transformational impact on communities. Active participation from stakeholders is sought, while creating awareness and during the implementation to ensure long term sustainability of the projects. Future-focused, the Group has been steadily expanding its ‘green’ initiatives, including Energy and Water Conservation, to reflect its response to what the world needs and its own role as a committed corporate citizen.\\n\\n\\nThe Group’s portfolio is extensive and diverse with presence in Mouth Freshener, Food and Beverage, Confectionery, Hospitality, Agri, Luxury Retail, Tobacco businesses and also has other investments. Starting from the core business of Flavours and Fragrances, the first step was creation of a masterpiece, ‘BABA’, India’s first branded chewing tobacco. That was the beginning of the success story and since then it has maintained its market leadership in the chewing tobacco segment with brands ‘BABA’ and ‘Tulsi’.')]"
      ]
     },
     "execution_count": 7,
     "metadata": {},
     "output_type": "execute_result"
    }
   ],
   "source": [
    "##Text Loader\n",
    "\n",
    "from langchain_community.document_loaders import TextLoader\n",
    "loader = TextLoader('speech.txt')\n",
    "docs=loader.load()\n",
    "docs"
   ]
  },
  {
   "cell_type": "code",
   "execution_count": 21,
   "id": "1ffd33e7",
   "metadata": {},
   "outputs": [
    {
     "name": "stdout",
     "output_type": "stream",
     "text": [
      "page_content='The DS Group (Dharampal Satyapal Group) is a'\n"
     ]
    }
   ],
   "source": [
    "speech=\"\"\n",
    "with open(\"speech.txt\") as f:\n",
    "    speech=f.read()\n",
    "\n",
    "speech\n",
    "text_splitter=RecursiveCharacterTextSplitter(chunk_size=50,chunk_overlap=1)\n",
    "text=text_splitter.create_documents([speech])\n",
    "print(text[1])"
   ]
  },
  {
   "cell_type": "code",
   "execution_count": null,
   "id": "17f79b5b",
   "metadata": {},
   "outputs": [],
   "source": []
  }
 ],
 "metadata": {
  "kernelspec": {
   "display_name": "Python 3",
   "language": "python",
   "name": "python3"
  },
  "language_info": {
   "codemirror_mode": {
    "name": "ipython",
    "version": 3
   },
   "file_extension": ".py",
   "mimetype": "text/x-python",
   "name": "python",
   "nbconvert_exporter": "python",
   "pygments_lexer": "ipython3",
   "version": "3.13.3"
  }
 },
 "nbformat": 4,
 "nbformat_minor": 5
}
