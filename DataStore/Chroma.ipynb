{
 "cells": [
  {
   "cell_type": "markdown",
   "id": "efe63b5b",
   "metadata": {},
   "source": [
    "#### Chroma\n",
    "\n",
    "Chroma is a AI natve open-source vector database focused on developer productivity and happiness. Chroma is licensed under Apache 2.0"
   ]
  },
  {
   "cell_type": "code",
   "execution_count": 1,
   "id": "0a7cac48",
   "metadata": {},
   "outputs": [],
   "source": [
    "## building sample vector db\n",
    "from langchain_chroma import Chroma\n",
    "from langchain_community.embeddings import OllamaEmbeddings\n",
    "from langchain_community.document_loaders import TextLoader\n",
    "from langchain_text_splitters import RecursiveCharacterTextSplitter\n"
   ]
  },
  {
   "cell_type": "code",
   "execution_count": 2,
   "id": "6c92e7ce",
   "metadata": {},
   "outputs": [
    {
     "data": {
      "text/plain": [
       "[Document(metadata={'source': 'speech.txt'}, page_content='Since\\n1929\\nThe DS Group (Dharampal Satyapal Group) is a Multi-Business Corporation and one of the leading FMCG (Fast Moving Consumer Goods) conglomerate with strong Indian and International presence. Founded in the year 1929, it is an inspiring and successful business story that blends a remarkable history and legacy with visionary growth. The Group continues to build successful brands across diverse business categories to delight the consumers, while the undeterred pursuit for ‘Quality & Innovation’ ensures consumer loyalty and satisfaction.\\n\\nGuided by a clear set of values and built on a strong foundation of collective good, Corporate Social Responsibility is an integral part of the Group’s business objectives. The Group works on projects across the country to achieve this objective with a focus on critical areas such as Water, Livelihood and Education. These initiatives have a transformational impact on communities. Active participation from stakeholders is sought, while creating awareness and during the implementation to ensure long term sustainability of the projects. Future-focused, the Group has been steadily expanding its ‘green’ initiatives, including Energy and Water Conservation, to reflect its response to what the world needs and its own role as a committed corporate citizen.\\n\\n\\nThe Group’s portfolio is extensive and diverse with presence in Mouth Freshener, Food and Beverage, Confectionery, Hospitality, Agri, Luxury Retail, Tobacco businesses and also has other investments. Starting from the core business of Flavours and Fragrances, the first step was creation of a masterpiece, ‘BABA’, India’s first branded chewing tobacco. That was the beginning of the success story and since then it has maintained its market leadership in the chewing tobacco segment with brands ‘BABA’ and ‘Tulsi’.')]"
      ]
     },
     "execution_count": 2,
     "metadata": {},
     "output_type": "execute_result"
    }
   ],
   "source": [
    "loader=TextLoader(\"speech.txt\")\n",
    "data=loader.load()\n",
    "data"
   ]
  },
  {
   "cell_type": "code",
   "execution_count": 3,
   "id": "06147323",
   "metadata": {},
   "outputs": [],
   "source": [
    "# split\n",
    "text_splitter=RecursiveCharacterTextSplitter(chunk_size=900,chunk_overlap=0)\n",
    "splits=text_splitter.split_documents(data)"
   ]
  },
  {
   "cell_type": "code",
   "execution_count": 4,
   "id": "09c78108",
   "metadata": {},
   "outputs": [
    {
     "name": "stderr",
     "output_type": "stream",
     "text": [
      "C:\\Users\\neha.sharma\\AppData\\Local\\Temp\\ipykernel_9980\\990195670.py:1: LangChainDeprecationWarning: The class `OllamaEmbeddings` was deprecated in LangChain 0.3.1 and will be removed in 1.0.0. An updated version of the class exists in the :class:`~langchain-ollama package and should be used instead. To use it run `pip install -U :class:`~langchain-ollama` and import as `from :class:`~langchain_ollama import OllamaEmbeddings``.\n",
      "  embedding=OllamaEmbeddings(model=\"gemma:2b\")\n"
     ]
    },
    {
     "data": {
      "text/plain": [
       "<langchain_chroma.vectorstores.Chroma at 0x2c4a976f770>"
      ]
     },
     "execution_count": 4,
     "metadata": {},
     "output_type": "execute_result"
    }
   ],
   "source": [
    "embedding=OllamaEmbeddings(model=\"gemma:2b\")\n",
    "vectordb = Chroma.from_documents(splits,embedding)\n",
    "vectordb"
   ]
  },
  {
   "cell_type": "markdown",
   "id": "96a4e17a",
   "metadata": {},
   "source": [
    "## Query it"
   ]
  },
  {
   "cell_type": "code",
   "execution_count": 6,
   "id": "69767414",
   "metadata": {},
   "outputs": [
    {
     "data": {
      "text/plain": [
       "'Since\\n1929\\nThe DS Group (Dharampal Satyapal Group) is a Multi-Business Corporation and one of the leading FMCG (Fast Moving Consumer Goods) conglomerate with strong Indian and International presence. Founded in the year 1929, it is an inspiring and successful business story that blends a remarkable history and legacy with visionary growth. The Group continues to build successful brands across diverse business categories to delight the consumers, while the undeterred pursuit for ‘Quality & Innovation’ ensures consumer loyalty and satisfaction.'"
      ]
     },
     "execution_count": 6,
     "metadata": {},
     "output_type": "execute_result"
    }
   ],
   "source": [
    "# querying\n",
    "query=\"when was DS established?\"\n",
    "\n",
    "docs=vectordb.similarity_search(query)\n",
    "# docs  #this is entire text which is matching\n",
    "docs[0].page_content # most similar ans"
   ]
  },
  {
   "cell_type": "code",
   "execution_count": 7,
   "id": "2f50114b",
   "metadata": {},
   "outputs": [],
   "source": [
    "## saving to the disk\n",
    "vectordb = Chroma.from_documents(splits,embedding,persist_directory=\"./chroma_db\")"
   ]
  },
  {
   "cell_type": "code",
   "execution_count": 8,
   "id": "6165309c",
   "metadata": {},
   "outputs": [
    {
     "data": {
      "text/plain": [
       "'Since\\n1929\\nThe DS Group (Dharampal Satyapal Group) is a Multi-Business Corporation and one of the leading FMCG (Fast Moving Consumer Goods) conglomerate with strong Indian and International presence. Founded in the year 1929, it is an inspiring and successful business story that blends a remarkable history and legacy with visionary growth. The Group continues to build successful brands across diverse business categories to delight the consumers, while the undeterred pursuit for ‘Quality & Innovation’ ensures consumer loyalty and satisfaction.'"
      ]
     },
     "execution_count": 8,
     "metadata": {},
     "output_type": "execute_result"
    }
   ],
   "source": [
    "# load from disk\n",
    "db2= Chroma(persist_directory=\"./chroma_db\",embedding_function=embedding)\n",
    "docs=db2.similarity_search(query)\n",
    "docs[0].page_content"
   ]
  },
  {
   "cell_type": "markdown",
   "id": "bbe30f58",
   "metadata": {},
   "source": [
    "### Reteriever option"
   ]
  },
  {
   "cell_type": "code",
   "execution_count": 9,
   "id": "ce4cb1ca",
   "metadata": {},
   "outputs": [
    {
     "data": {
      "text/plain": [
       "'Since\\n1929\\nThe DS Group (Dharampal Satyapal Group) is a Multi-Business Corporation and one of the leading FMCG (Fast Moving Consumer Goods) conglomerate with strong Indian and International presence. Founded in the year 1929, it is an inspiring and successful business story that blends a remarkable history and legacy with visionary growth. The Group continues to build successful brands across diverse business categories to delight the consumers, while the undeterred pursuit for ‘Quality & Innovation’ ensures consumer loyalty and satisfaction.'"
      ]
     },
     "execution_count": 9,
     "metadata": {},
     "output_type": "execute_result"
    }
   ],
   "source": [
    "r=vectordb.as_retriever()\n",
    "r.invoke(query)[0].page_content"
   ]
  }
 ],
 "metadata": {
  "kernelspec": {
   "display_name": "Python 3",
   "language": "python",
   "name": "python3"
  },
  "language_info": {
   "codemirror_mode": {
    "name": "ipython",
    "version": 3
   },
   "file_extension": ".py",
   "mimetype": "text/x-python",
   "name": "python",
   "nbconvert_exporter": "python",
   "pygments_lexer": "ipython3",
   "version": "3.13.3"
  }
 },
 "nbformat": 4,
 "nbformat_minor": 5
}
